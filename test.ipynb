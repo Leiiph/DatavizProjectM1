{
 "cells": [
  {
   "cell_type": "code",
   "execution_count": 1,
   "metadata": {},
   "outputs": [],
   "source": [
    "import pandas as pd\n",
    "import numpy as np\n",
    "import matplotlib.pyplot as plt\n",
    "import seaborn as sns"
   ]
  },
  {
   "cell_type": "code",
   "execution_count": 7,
   "metadata": {},
   "outputs": [],
   "source": [
    "df = pd.read_csv('data.csv', delimiter=';')"
   ]
  },
  {
   "cell_type": "code",
   "execution_count": 6,
   "metadata": {},
   "outputs": [
    {
     "name": "stdout",
     "output_type": "stream",
     "text": [
      "operateur                          object\n",
      "annee                               int64\n",
      "filiere                            object\n",
      "code_categorie_consommation        object\n",
      "libelle_categorie_consommation     object\n",
      "code_grand_secteur                 object\n",
      "libelle_grand_secteur              object\n",
      "code_naf                          float64\n",
      "libelle_secteur_naf2               object\n",
      "conso                             float64\n",
      "pdl                                 int64\n",
      "indqual                           float64\n",
      "nombre_mailles_secretisees          int64\n",
      "code_region                        object\n",
      "libelle_region                     object\n",
      "dtype: object\n"
     ]
    }
   ],
   "source": [
    "print(df.dtypes)"
   ]
  },
  {
   "cell_type": "code",
   "execution_count": 16,
   "metadata": {},
   "outputs": [],
   "source": [
    "todrop = ['operateur', 'indqual', 'nombre_mailles_secretisees', 'code_grand_secteur']\n",
    "df.drop(columns=todrop, axis=1, inplace=True)"
   ]
  },
  {
   "cell_type": "code",
   "execution_count": 18,
   "metadata": {},
   "outputs": [
    {
     "name": "stdout",
     "output_type": "stream",
     "text": [
      "annee                                0\n",
      "filiere                              0\n",
      "code_categorie_consommation          0\n",
      "libelle_categorie_consommation       0\n",
      "libelle_grand_secteur                0\n",
      "code_naf                          6985\n",
      "libelle_secteur_naf2                 0\n",
      "conso                                0\n",
      "pdl                                  0\n",
      "code_region                          0\n",
      "libelle_region                       0\n",
      "dtype: int64\n"
     ]
    }
   ],
   "source": [
    "print(df.isna().sum())"
   ]
  },
  {
   "cell_type": "code",
   "execution_count": 20,
   "metadata": {},
   "outputs": [
    {
     "name": "stdout",
     "output_type": "stream",
     "text": [
      "annee                             0\n",
      "filiere                           0\n",
      "code_categorie_consommation       0\n",
      "libelle_categorie_consommation    0\n",
      "libelle_grand_secteur             0\n",
      "code_naf                          0\n",
      "libelle_secteur_naf2              0\n",
      "conso                             0\n",
      "pdl                               0\n",
      "code_region                       0\n",
      "libelle_region                    0\n",
      "dtype: int64\n"
     ]
    }
   ],
   "source": [
    "df = df.dropna()\n",
    "print(df.isna().sum())"
   ]
  }
 ],
 "metadata": {
  "kernelspec": {
   "display_name": "Python 3",
   "language": "python",
   "name": "python3"
  },
  "language_info": {
   "codemirror_mode": {
    "name": "ipython",
    "version": 3
   },
   "file_extension": ".py",
   "mimetype": "text/x-python",
   "name": "python",
   "nbconvert_exporter": "python",
   "pygments_lexer": "ipython3",
   "version": "3.11.2"
  }
 },
 "nbformat": 4,
 "nbformat_minor": 2
}
