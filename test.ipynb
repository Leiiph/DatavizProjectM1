{
 "cells": [
  {
   "cell_type": "code",
   "execution_count": 14,
   "metadata": {},
   "outputs": [],
   "source": [
    "import pandas as pd\n",
    "import numpy as np\n",
    "import matplotlib.pyplot as plt\n",
    "import seaborn as sns\n",
    "import geopandas as gpd"
   ]
  },
  {
   "cell_type": "code",
   "execution_count": 15,
   "metadata": {},
   "outputs": [],
   "source": [
    "df = pd.read_csv('data.csv', delimiter=';')"
   ]
  },
  {
   "cell_type": "code",
   "execution_count": 16,
   "metadata": {},
   "outputs": [
    {
     "name": "stdout",
     "output_type": "stream",
     "text": [
      "operateur                          object\n",
      "annee                               int64\n",
      "filiere                            object\n",
      "code_categorie_consommation        object\n",
      "libelle_categorie_consommation     object\n",
      "code_grand_secteur                 object\n",
      "libelle_grand_secteur              object\n",
      "code_naf                          float64\n",
      "libelle_secteur_naf2               object\n",
      "conso                             float64\n",
      "pdl                                 int64\n",
      "indqual                           float64\n",
      "nombre_mailles_secretisees          int64\n",
      "code_region                        object\n",
      "libelle_region                     object\n",
      "dtype: object\n"
     ]
    }
   ],
   "source": [
    "print(df.dtypes)"
   ]
  },
  {
   "cell_type": "code",
   "execution_count": 17,
   "metadata": {},
   "outputs": [],
   "source": [
    "todrop = ['operateur', 'nombre_mailles_secretisees', 'code_grand_secteur']\n",
    "df.drop(columns=todrop, axis=1, inplace=True)"
   ]
  },
  {
   "cell_type": "code",
   "execution_count": 18,
   "metadata": {},
   "outputs": [
    {
     "name": "stdout",
     "output_type": "stream",
     "text": [
      "annee                                0\n",
      "filiere                              0\n",
      "code_categorie_consommation          0\n",
      "libelle_categorie_consommation       0\n",
      "libelle_grand_secteur                0\n",
      "code_naf                          6985\n",
      "libelle_secteur_naf2                 0\n",
      "conso                                0\n",
      "pdl                                  0\n",
      "indqual                              0\n",
      "code_region                          0\n",
      "libelle_region                       0\n",
      "dtype: int64\n"
     ]
    }
   ],
   "source": [
    "print(df.isna().sum())"
   ]
  },
  {
   "cell_type": "code",
   "execution_count": 19,
   "metadata": {},
   "outputs": [
    {
     "name": "stdout",
     "output_type": "stream",
     "text": [
      "annee                             0\n",
      "filiere                           0\n",
      "code_categorie_consommation       0\n",
      "libelle_categorie_consommation    0\n",
      "libelle_grand_secteur             0\n",
      "code_naf                          0\n",
      "libelle_secteur_naf2              0\n",
      "conso                             0\n",
      "pdl                               0\n",
      "indqual                           0\n",
      "code_region                       0\n",
      "libelle_region                    0\n",
      "dtype: int64\n"
     ]
    }
   ],
   "source": [
    "df = df.dropna()\n",
    "print(df.isna().sum())"
   ]
  },
  {
   "cell_type": "markdown",
   "metadata": {},
   "source": [
    "## What to do:\n",
    "- Electricité et gaz (for each):\n",
    "    - Filière vs Année\n",
    "    - Map geopandas\n",
    "    - Indqual\n",
    "    - Conso vs région\n",
    "    - Pour les résidenciels: conso vs région\n",
    "    - Entreprises : conso vs région\n",
    "\n",
    "- Gaz vs électricité en 2021\n",
    "- 2018 vs 2021: pré & post covid"
   ]
  },
  {
   "cell_type": "code",
   "execution_count": 22,
   "metadata": {},
   "outputs": [
    {
     "ename": "ValueError",
     "evalue": "'right_df' should be GeoDataFrame, got <class 'pandas.core.frame.DataFrame'>",
     "output_type": "error",
     "traceback": [
      "\u001b[1;31m---------------------------------------------------------------------------\u001b[0m",
      "\u001b[1;31mValueError\u001b[0m                                Traceback (most recent call last)",
      "\u001b[1;32mc:\\Users\\lenab\\Desktop\\Efrei\\M1\\DatavizProjectM1\\test.ipynb Cell 8\u001b[0m line \u001b[0;36m7\n\u001b[0;32m      <a href='vscode-notebook-cell:/c%3A/Users/lenab/Desktop/Efrei/M1/DatavizProjectM1/test.ipynb#X11sZmlsZQ%3D%3D?line=3'>4</a>\u001b[0m france \u001b[39m=\u001b[39m gpd\u001b[39m.\u001b[39mread_file(\u001b[39m'\u001b[39m\u001b[39mregions.geojson\u001b[39m\u001b[39m'\u001b[39m)\n\u001b[0;32m      <a href='vscode-notebook-cell:/c%3A/Users/lenab/Desktop/Efrei/M1/DatavizProjectM1/test.ipynb#X11sZmlsZQ%3D%3D?line=5'>6</a>\u001b[0m \u001b[39m# perform a spatial join between france and df\u001b[39;00m\n\u001b[1;32m----> <a href='vscode-notebook-cell:/c%3A/Users/lenab/Desktop/Efrei/M1/DatavizProjectM1/test.ipynb#X11sZmlsZQ%3D%3D?line=6'>7</a>\u001b[0m joined_data \u001b[39m=\u001b[39m gpd\u001b[39m.\u001b[39;49msjoin(france, df, how\u001b[39m=\u001b[39;49m\u001b[39m'\u001b[39;49m\u001b[39minner\u001b[39;49m\u001b[39m'\u001b[39;49m, op\u001b[39m=\u001b[39;49m\u001b[39m'\u001b[39;49m\u001b[39mintersects\u001b[39;49m\u001b[39m'\u001b[39;49m)\n\u001b[0;32m      <a href='vscode-notebook-cell:/c%3A/Users/lenab/Desktop/Efrei/M1/DatavizProjectM1/test.ipynb#X11sZmlsZQ%3D%3D?line=8'>9</a>\u001b[0m \u001b[39m# plot the joined_data\u001b[39;00m\n\u001b[0;32m     <a href='vscode-notebook-cell:/c%3A/Users/lenab/Desktop/Efrei/M1/DatavizProjectM1/test.ipynb#X11sZmlsZQ%3D%3D?line=9'>10</a>\u001b[0m joined_data\u001b[39m.\u001b[39mplot(column\u001b[39m=\u001b[39m\u001b[39m'\u001b[39m\u001b[39mcode_region\u001b[39m\u001b[39m'\u001b[39m, legend\u001b[39m=\u001b[39m\u001b[39mTrue\u001b[39;00m)\n",
      "File \u001b[1;32mc:\\Users\\lenab\\AppData\\Local\\Programs\\Python\\Python311\\Lib\\site-packages\\geopandas\\tools\\sjoin.py:119\u001b[0m, in \u001b[0;36msjoin\u001b[1;34m(left_df, right_df, how, predicate, lsuffix, rsuffix, **kwargs)\u001b[0m\n\u001b[0;32m    116\u001b[0m     first \u001b[39m=\u001b[39m \u001b[39mnext\u001b[39m(\u001b[39miter\u001b[39m(kwargs\u001b[39m.\u001b[39mkeys()))\n\u001b[0;32m    117\u001b[0m     \u001b[39mraise\u001b[39;00m \u001b[39mTypeError\u001b[39;00m(\u001b[39mf\u001b[39m\u001b[39m\"\u001b[39m\u001b[39msjoin() got an unexpected keyword argument \u001b[39m\u001b[39m'\u001b[39m\u001b[39m{\u001b[39;00mfirst\u001b[39m}\u001b[39;00m\u001b[39m'\u001b[39m\u001b[39m\"\u001b[39m)\n\u001b[1;32m--> 119\u001b[0m _basic_checks(left_df, right_df, how, lsuffix, rsuffix)\n\u001b[0;32m    121\u001b[0m indices \u001b[39m=\u001b[39m _geom_predicate_query(left_df, right_df, predicate)\n\u001b[0;32m    123\u001b[0m joined \u001b[39m=\u001b[39m _frame_join(indices, left_df, right_df, how, lsuffix, rsuffix)\n",
      "File \u001b[1;32mc:\\Users\\lenab\\AppData\\Local\\Programs\\Python\\Python311\\Lib\\site-packages\\geopandas\\tools\\sjoin.py:152\u001b[0m, in \u001b[0;36m_basic_checks\u001b[1;34m(left_df, right_df, how, lsuffix, rsuffix)\u001b[0m\n\u001b[0;32m    147\u001b[0m     \u001b[39mraise\u001b[39;00m \u001b[39mValueError\u001b[39;00m(\n\u001b[0;32m    148\u001b[0m         \u001b[39m\"\u001b[39m\u001b[39m'\u001b[39m\u001b[39mleft_df\u001b[39m\u001b[39m'\u001b[39m\u001b[39m should be GeoDataFrame, got \u001b[39m\u001b[39m{}\u001b[39;00m\u001b[39m\"\u001b[39m\u001b[39m.\u001b[39mformat(\u001b[39mtype\u001b[39m(left_df))\n\u001b[0;32m    149\u001b[0m     )\n\u001b[0;32m    151\u001b[0m \u001b[39mif\u001b[39;00m \u001b[39mnot\u001b[39;00m \u001b[39misinstance\u001b[39m(right_df, GeoDataFrame):\n\u001b[1;32m--> 152\u001b[0m     \u001b[39mraise\u001b[39;00m \u001b[39mValueError\u001b[39;00m(\n\u001b[0;32m    153\u001b[0m         \u001b[39m\"\u001b[39m\u001b[39m'\u001b[39m\u001b[39mright_df\u001b[39m\u001b[39m'\u001b[39m\u001b[39m should be GeoDataFrame, got \u001b[39m\u001b[39m{}\u001b[39;00m\u001b[39m\"\u001b[39m\u001b[39m.\u001b[39mformat(\u001b[39mtype\u001b[39m(right_df))\n\u001b[0;32m    154\u001b[0m     )\n\u001b[0;32m    156\u001b[0m allowed_hows \u001b[39m=\u001b[39m [\u001b[39m\"\u001b[39m\u001b[39mleft\u001b[39m\u001b[39m\"\u001b[39m, \u001b[39m\"\u001b[39m\u001b[39mright\u001b[39m\u001b[39m\"\u001b[39m, \u001b[39m\"\u001b[39m\u001b[39minner\u001b[39m\u001b[39m\"\u001b[39m]\n\u001b[0;32m    157\u001b[0m \u001b[39mif\u001b[39;00m how \u001b[39mnot\u001b[39;00m \u001b[39min\u001b[39;00m allowed_hows:\n",
      "\u001b[1;31mValueError\u001b[0m: 'right_df' should be GeoDataFrame, got <class 'pandas.core.frame.DataFrame'>"
     ]
    }
   ],
   "source": [
    "import geopandas as gpd\n",
    "\n",
    "# read the regions.geojson file\n",
    "france = gpd.read_file('regions.geojson')\n",
    "\n",
    "# perform a spatial join between france and df\n",
    "joined_data = gpd.sjoin(france, df, how='inner', op='intersects')\n",
    "\n",
    "# plot the joined_data\n",
    "joined_data.plot(column='code_region', legend=True)\n"
   ]
  },
  {
   "cell_type": "markdown",
   "metadata": {},
   "source": []
  }
 ],
 "metadata": {
  "kernelspec": {
   "display_name": "Python 3",
   "language": "python",
   "name": "python3"
  },
  "language_info": {
   "codemirror_mode": {
    "name": "ipython",
    "version": 3
   },
   "file_extension": ".py",
   "mimetype": "text/x-python",
   "name": "python",
   "nbconvert_exporter": "python",
   "pygments_lexer": "ipython3",
   "version": "3.11.2"
  }
 },
 "nbformat": 4,
 "nbformat_minor": 2
}
